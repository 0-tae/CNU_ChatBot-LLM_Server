{
 "cells": [
  {
   "cell_type": "markdown",
   "metadata": {},
   "source": [
    "## 노드 정의"
   ]
  },
  {
   "cell_type": "code",
   "execution_count": 2,
   "metadata": {},
   "outputs": [],
   "source": [
    "from langchain_chroma import Chroma\n",
    "from langgraph.prebuilt import ToolNode\n",
    "from langchain.tools.retriever import create_retriever_tool\n",
    "from langchain_core.tools import tool\n",
    "from crawler import google_crawler\n",
    "\n",
    "def get_tool_by_collection(collection_name: str):\n",
    "    vectorstore = Chroma(collection_name)\n",
    "    retriever = vectorstore.as_retriever()\n",
    "    return create_retriever_tool(\n",
    "        retriever,\n",
    "        f\"retrieve_{collection_name}\"\n",
    "        f\"retriever tool for {collection_name} chromaDB collection\",\n",
    "    )\n",
    "\n",
    "@tool\n",
    "def google_search_tool(query: str):\n",
    "    return google_crawler.search(query=query)\n",
    "\n",
    "\n",
    "tools = [get_tool_by_collection(\"cnu_post_data\"),\n",
    "         get_tool_by_collection(\"cnu_post_content_data\"),\n",
    "         google_search_tool]\n",
    "\n",
    "tool_node = ToolNode(tools)"
   ]
  },
  {
   "cell_type": "code",
   "execution_count": null,
   "metadata": {},
   "outputs": [],
   "source": [
    "from llm_models import Llama38BKorModel\n",
    "from state import State, graph_builder\n",
    "from langgraph.graph import START, END\n",
    "\n",
    "llm = Llama38BKorModel()\n",
    "\n",
    "\n",
    "# Define the function that determines whether to continue or not\n",
    "def should_continue(state: State) -> Literal[\"tools\", END]:\n",
    "    \n",
    "    # TODO: 스코어가 낮을 때 다시 돌아갈 것\n",
    "    \n",
    "\n",
    "    if last_message.tool_calls:\n",
    "        return \"retrieve\"\n",
    "    \n",
    "    return END\n",
    "\n",
    "def answer(state: State):\n",
    "    return {\"answer\": llm.query(state[\"question\"])}\n",
    "\n",
    "def question(state: State):\n",
    "    query =  \"수강신청 기간 언제야?\"\n",
    "    return {\"question\": query}\n",
    "\n",
    "def retrieve(state: State):\n",
    "\n",
    "    \n",
    "\n",
    "    return {\"context\": [llm.query(state[\"question\"])]}\n",
    "\n",
    "def binary_score(state: State):\n",
    "    return {\"binary_score\": [llm.query(state[\"question\"])]}\n",
    "\n",
    "\n",
    "\n",
    "# 노드의 추가\n",
    "graph_builder.add_node(\"answer\", answer)\n",
    "\n",
    "# chatbot 노드의 이전 경로로 START를 포함함\n",
    "graph_builder.add_edge(START, \"answer\")\n",
    "\n",
    "# chatbot 노드의 다음 경로로 END를 포함함\n",
    "graph_builder.add_edge(\"answer\", END)\n",
    "\n",
    "\n",
    "graph = graph_builder.compile()"
   ]
  },
  {
   "cell_type": "code",
   "execution_count": 8,
   "metadata": {},
   "outputs": [
    {
     "ename": "NameError",
     "evalue": "name 'MessagesState' is not defined",
     "output_type": "error",
     "traceback": [
      "\u001b[0;31m---------------------------------------------------------------------------\u001b[0m",
      "\u001b[0;31mNameError\u001b[0m                                 Traceback (most recent call last)",
      "Cell \u001b[0;32mIn[8], line 2\u001b[0m\n\u001b[1;32m      1\u001b[0m \u001b[38;5;66;03m# Define the function that determines whether to continue or not\u001b[39;00m\n\u001b[0;32m----> 2\u001b[0m \u001b[38;5;28;01mdef\u001b[39;00m \u001b[38;5;21mshould_continue\u001b[39m(state: \u001b[43mMessagesState\u001b[49m) \u001b[38;5;241m-\u001b[39m\u001b[38;5;241m>\u001b[39m Literal[\u001b[38;5;124m\"\u001b[39m\u001b[38;5;124mtools\u001b[39m\u001b[38;5;124m\"\u001b[39m, END]:\n\u001b[1;32m      3\u001b[0m     messages \u001b[38;5;241m=\u001b[39m state[\u001b[38;5;124m'\u001b[39m\u001b[38;5;124mmessages\u001b[39m\u001b[38;5;124m'\u001b[39m]\n\u001b[1;32m      4\u001b[0m     last_message \u001b[38;5;241m=\u001b[39m messages[\u001b[38;5;241m-\u001b[39m\u001b[38;5;241m1\u001b[39m]\n",
      "\u001b[0;31mNameError\u001b[0m: name 'MessagesState' is not defined"
     ]
    }
   ],
   "source": [
    "from langgraph.graph import END, StateGraph, MessagesState\n",
    "\n",
    "# Define the function that determines whether to continue or not\n",
    "def should_continue(state: GraphState) -> Literal[\"tools\", END]:\n",
    "    messages = state['messages']\n",
    "    last_message = messages[-1]\n",
    "    # If the LLM makes a tool call, then we route to the \"tools\" node\n",
    "    if last_message.tool_calls:\n",
    "        return \"tools\"\n",
    "    # Otherwise, we stop (reply to the user)\n",
    "    return END\n",
    "\n",
    "\n",
    "# Define the function that calls the model\n",
    "def call_model(state: MessagesState):\n",
    "    messages = state['messages']\n",
    "    response = model.invoke(messages)\n",
    "    # We return a list, because this will get added to the existing list\n",
    "    return {\"messages\": [response]}\n",
    "\n"
   ]
  },
  {
   "cell_type": "code",
   "execution_count": null,
   "metadata": {},
   "outputs": [],
   "source": []
  }
 ],
 "metadata": {
  "kernelspec": {
   "display_name": "dnlab",
   "language": "python",
   "name": "python3"
  },
  "language_info": {
   "codemirror_mode": {
    "name": "ipython",
    "version": 3
   },
   "file_extension": ".py",
   "mimetype": "text/x-python",
   "name": "python",
   "nbconvert_exporter": "python",
   "pygments_lexer": "ipython3",
   "version": "3.10.14"
  }
 },
 "nbformat": 4,
 "nbformat_minor": 2
}
