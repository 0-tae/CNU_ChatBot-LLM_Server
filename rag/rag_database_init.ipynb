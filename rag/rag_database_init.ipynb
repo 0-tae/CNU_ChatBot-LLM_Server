{
 "cells": [
  {
   "cell_type": "code",
   "execution_count": 1,
   "metadata": {},
   "outputs": [],
   "source": [
    "import pandas as pd\n",
    "\n",
    "CSV_FILE_NAME = \"./cnu_article_data.csv\"\n",
    "\n",
    "csv_data = pd.read_csv(CSV_FILE_NAME,encoding='utf-8')"
   ]
  },
  {
   "cell_type": "code",
   "execution_count": 2,
   "metadata": {},
   "outputs": [
    {
     "ename": "ModuleNotFoundError",
     "evalue": "No module named 'rag'",
     "output_type": "error",
     "traceback": [
      "\u001b[0;31m---------------------------------------------------------------------------\u001b[0m",
      "\u001b[0;31mModuleNotFoundError\u001b[0m                       Traceback (most recent call last)",
      "Cell \u001b[0;32mIn[2], line 1\u001b[0m\n\u001b[0;32m----> 1\u001b[0m \u001b[38;5;28;01mfrom\u001b[39;00m \u001b[38;5;21;01mrag\u001b[39;00m\u001b[38;5;21;01m.\u001b[39;00m\u001b[38;5;21;01mrag_database\u001b[39;00m \u001b[38;5;28;01mimport\u001b[39;00m session \n\u001b[1;32m      2\u001b[0m \u001b[38;5;28;01mfrom\u001b[39;00m \u001b[38;5;21;01mrag\u001b[39;00m\u001b[38;5;21;01m.\u001b[39;00m\u001b[38;5;21;01mrag_database\u001b[39;00m \u001b[38;5;28;01mimport\u001b[39;00m Post\n\u001b[1;32m      4\u001b[0m \u001b[38;5;66;03m# # Function to save a post entity\u001b[39;00m\n\u001b[1;32m      5\u001b[0m \u001b[38;5;66;03m# def save_post(row):\u001b[39;00m\n\u001b[1;32m      6\u001b[0m \u001b[38;5;66;03m#     new_post = Post(\u001b[39;00m\n\u001b[0;32m   (...)\u001b[0m\n\u001b[1;32m     26\u001b[0m \u001b[38;5;66;03m# # Close the session\u001b[39;00m\n\u001b[1;32m     27\u001b[0m \u001b[38;5;66;03m# session.close()\u001b[39;00m\n",
      "\u001b[0;31mModuleNotFoundError\u001b[0m: No module named 'rag'"
     ]
    }
   ],
   "source": [
    "from rag_database import session \n",
    "from rag_database import Post\n",
    "\n",
    "# Function to save a post entity\n",
    "def save_post(row):\n",
    "    new_post = Post(\n",
    "        department_name=row[1][\"site_name\"],\n",
    "        notice_name=row[1][\"board_name\"],\n",
    "        writer=row[1][\"writer_name\"],\n",
    "        view_count = row[1][\"click_count\"],\n",
    "        date=row[1][\"update_date\"],\n",
    "        content=row[1]['article_text'] if pd.notna(row[1]['article_text']) else '',\n",
    "        title=row[1][\"article_title\"]  # Assuming \"board_name\" can be used as the title\n",
    "    )\n",
    "    \n",
    "    print(f\"title: {row[1]['article_title']}\",row[1]['article_text'])\n",
    "    # Add the new post to the session\n",
    "    session.add(new_post)\n",
    "    \n",
    "    # Commit the transaction\n",
    "    session.commit()\n",
    "\n",
    "for idx, row in enumerate(csv_data.iterrows()):\n",
    "    save_post(row)\n",
    "\n",
    "# Close the session\n",
    "session.close()"
   ]
  },
  {
   "cell_type": "code",
   "execution_count": null,
   "metadata": {},
   "outputs": [],
   "source": [
    "# TEST CODE\n",
    "\n",
    "test_input_filter = \"컴퓨터융합학부\"\n",
    "test_input_text = \"튜터 모집공지\""
   ]
  }
 ],
 "metadata": {
  "kernelspec": {
   "display_name": "llm",
   "language": "python",
   "name": "python3"
  },
  "language_info": {
   "codemirror_mode": {
    "name": "ipython",
    "version": 3
   },
   "file_extension": ".py",
   "mimetype": "text/x-python",
   "name": "python",
   "nbconvert_exporter": "python",
   "pygments_lexer": "ipython3",
   "version": "3.11.9"
  }
 },
 "nbformat": 4,
 "nbformat_minor": 2
}
