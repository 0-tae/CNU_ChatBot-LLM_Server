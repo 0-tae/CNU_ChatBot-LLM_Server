{
  "cells": [
    {
      "cell_type": "markdown",
      "metadata": {
        "id": "xn28qgmjmpwU"
      },
      "source": [
        "# Bllossom-8B 양자화 모델을 이용한 한국어 RAG"
      ]
    },
    {
      "cell_type": "code",
      "execution_count": 1,
      "metadata": {
        "colab": {
          "background_save": true,
          "base_uri": "https://localhost:8080/"
        },
        "id": "i5xmsZ2fOdAk",
        "outputId": "e5dec030-a4f4-494c-b834-edaa4f2f4685",
        "vscode": {
          "languageId": "shellscript"
        }
      },
      "outputs": [],
      "source": [
        "!CMAKE_ARGS=\"-DGGML_BLAS=ON -DGGML_BLAS_VENDOR=OpenBLAS\" pip install --upgrade --verbose --force-reinstall --no-cache-dir llama-cpp-python #양자화 구동을 위한 Llama C++ 설치\n",
        "# conda install -c conda-forge gcc gxx\n",
        "# !huggingface-cli download MLP-KTLim/llama-3-Korean-Bllossom-8B-gguf-Q4_K_M --local-dir='./' #Bllossom모델 다운로드"
      ]
    },
    {
      "cell_type": "code",
      "execution_count": 1,
      "metadata": {
        "id": "XbOA7HcbirUG"
      },
      "outputs": [
        {
          "name": "stderr",
          "output_type": "stream",
          "text": [
            "/home/choiyt3465/anaconda3/envs/dnlab/lib/python3.10/site-packages/tqdm/auto.py:21: TqdmWarning: IProgress not found. Please update jupyter and ipywidgets. See https://ipywidgets.readthedocs.io/en/stable/user_install.html\n",
            "  from .autonotebook import tqdm as notebook_tqdm\n",
            "Loading checkpoint shards: 100%|██████████| 4/4 [00:03<00:00,  1.20it/s]\n"
          ]
        },
        {
          "data": {
            "text/plain": [
              "LlamaForCausalLM(\n",
              "  (model): LlamaModel(\n",
              "    (embed_tokens): Embedding(128256, 4096)\n",
              "    (layers): ModuleList(\n",
              "      (0-31): 32 x LlamaDecoderLayer(\n",
              "        (self_attn): LlamaSdpaAttention(\n",
              "          (q_proj): Linear(in_features=4096, out_features=4096, bias=False)\n",
              "          (k_proj): Linear(in_features=4096, out_features=1024, bias=False)\n",
              "          (v_proj): Linear(in_features=4096, out_features=1024, bias=False)\n",
              "          (o_proj): Linear(in_features=4096, out_features=4096, bias=False)\n",
              "          (rotary_emb): LlamaRotaryEmbedding()\n",
              "        )\n",
              "        (mlp): LlamaMLP(\n",
              "          (gate_proj): Linear(in_features=4096, out_features=14336, bias=False)\n",
              "          (up_proj): Linear(in_features=4096, out_features=14336, bias=False)\n",
              "          (down_proj): Linear(in_features=14336, out_features=4096, bias=False)\n",
              "          (act_fn): SiLU()\n",
              "        )\n",
              "        (input_layernorm): LlamaRMSNorm()\n",
              "        (post_attention_layernorm): LlamaRMSNorm()\n",
              "      )\n",
              "    )\n",
              "    (norm): LlamaRMSNorm()\n",
              "    (rotary_emb): LlamaRotaryEmbedding()\n",
              "  )\n",
              "  (lm_head): Linear(in_features=4096, out_features=128256, bias=False)\n",
              ")"
            ]
          },
          "execution_count": 1,
          "metadata": {},
          "output_type": "execute_result"
        }
      ],
      "source": [
        "from llama_cpp import Llama\n",
        "import transformers\n",
        "from transformers import AutoTokenizer,AutoModelForCausalLM\n",
        "import torch\n",
        "\n",
        "model_id = 'MLP-KTLim/llama-3-Korean-Bllossom-8B'\n",
        "pipeline = transformers.pipeline(\n",
        "    \"text-generation\",\n",
        "    model=model_id,\n",
        "    model_kwargs={\"torch_dtype\": torch.bfloat16},\n",
        "    device_map=\"auto\",\n",
        ")\n",
        "\n",
        "pipeline.model.eval()"
      ]
    },
    {
      "cell_type": "code",
      "execution_count": 3,
      "metadata": {
        "id": "B-LJ1VGjlWyu"
      },
      "outputs": [],
      "source": [
        "from transformers import AutoModel, AutoTokenizer\n",
        "import json\n",
        "from datetime import datetime\n",
        "import chromadb\n",
        "\n",
        "COLLECTION_NAME = \"cnu_post_data\"\n",
        "COLLECTION_NAME2 = \"cnu_post_content_data\"\n",
        "\n",
        "client = chromadb.PersistentClient()\n",
        "collection = client.get_or_create_collection(name=COLLECTION_NAME)\n",
        "collection2 = client.get_or_create_collection(name=COLLECTION_NAME2)\n",
        "\n",
        "model = AutoModel.from_pretrained('BM-K/KoSimCSE-roberta')\n",
        "tokenizer = AutoTokenizer.from_pretrained('BM-K/KoSimCSE-roberta')"
      ]
    },
    {
      "cell_type": "code",
      "execution_count": 60,
      "metadata": {},
      "outputs": [
        {
          "name": "stdout",
          "output_type": "stream",
          "text": [
            "0 [주의사항] 복수(부)전공 학과로 전과한 경우복수(부)전공 취소신청을,교직과정 이수자가 전과한 경우원 소속 학과의교직과정 이수자격 취소신청을 하여야 함  전과한 자 중 복수(부)전공 및 교직과정 포기자는 제2학기 융복합창의전공 신청 시기에 반드시 취소 신청하여야 함  전과는 재학 중 1회에 한함   전과한 자는 전과 전후 학과의 성적우수, 격려 장학생으로 선발 불가 * 전과하고자 하는 과의 선 이수과목 등 요구사항을 꼭 확인하세요. * 자세한 내용은 첨부문서 참고 내용 일정 비고 전과 시행계획 및 모집요강 안내 2023. 12. 8.( 금 ) 학사지원과 전과 지원서류 접수 2024. 1. 12.( 금 )  1. 16.( 화 ) 현 소속 학과 전과 ( 전출 ) 지원자 명단 제출 2024. 1. 17.( 수 ) 단과대학 ( 학과 ) 전과 지원서류 이송 2024. 1. 17.( 수 ) 단과대학 ( 학과 ) 전과 ( 전입 ) 면접고사 , 필기고사 및 실기고사 2024. 1. 19.( 금 ) 10:00 단과대학\n",
            "1 - 수업 (수강신청, 졸업사정 등 ) 문의:  042-821-7456 - 학생 (장학, 졸업프로젝트, 휴복학 등) 문의:  042-821-6651 - 대학원 진학 문의: 042-821-5441 - 수강신청, 졸업사정 상담은 학과로 연락 또는 방문 하여 상담 하시기 바랍니다. (이메일로 상담 하지 않음)\n",
            "2 카카오테크 캠퍼스 2기 신청자는 2024학년도 하기 계절학기 전공 수강희망서(실무프로젝트랩2) 로 제출하여 주시기 바랍니다. 2024 학년도 하기 계절학기 개설 교과목 수요조사 안내 구 분  내 용 수요조사 및 교과목 설강 기준 졸업학점 미달 , 재이수 및 조기졸업 희망 학생 등 사전 수요 조사 를 통하여  수강 희망 인원이 전공과목은 20 명 이상 ,  교양 교직 일선 과목은 30 명 이상  되어야 설강 대상자  성적우수자로 조기졸업 희망자  학점 미취득과목 취득희망자  성적 불량과목 (F 학점 포함 ) 재이수 희망자  기타 학점취득 희망자  2024 학년도 제 1 학기 재학생 및 휴학생   ( 단 , 2024 년 8 월 졸업대상자 중 1 학기 현재 휴학생인 경우는 제외 ) 수요조사기간 교양 , 교직 등 수강신청시스템 ( 웹 ) 또는 모바일 수강신청 앱 2024. 3. 22.( 금 ) 09:30 ~ 4. 3.( 수 ) 18:00 전공 소속학과로 수강희망서  제출 2024. 3. 22.( 금 )\n",
            "3 카카오테크 캠퍼스 2기 신청자는 2024학년도 하기 계절학기 전공 수강희망서(실무프로젝트랩2) 로 제출하여 주시기 바랍니다. 2024 학년도 하기 계절학기 개설 교과목 수요조사 안내 구 분  내 용 수요조사 및 교과목 설강 기준 졸업학점 미달 , 재이수 및 조기졸업 희망 학생 등 사전 수요 조사 를 통하여  수강 희망 인원이 전공과목은 20 명 이상 ,  교양 교직 일선 과목은 30 명 이상  되어야 설강 대상자  성적우수자로 조기졸업 희망자  학점 미취득과목 취득희망자  성적 불량과목 (F 학점 포함 ) 재이수 희망자  기타 학점취득 희망자  2024 학년도 제 1 학기 재학생 및 휴학생   ( 단 , 2024 년 8 월 졸업대상자 중 1 학기 현재 휴학생인 경우는 제외 ) 수요조사기간 교양 , 교직 등 수강신청시스템 ( 웹 ) 또는 모바일 수강신청 앱 2024. 3. 22.( 금 ) 09:30 ~ 4. 3.( 수 ) 18:00 전공 소속학과로 수강희망서  제출 2024. 3. 22.( 금 )\n",
            "4 1. 19.( 금 ) 10:00 단과대학 ( 학과 ) 전과 허가 요청  전과 ( 전입 ) 지원자 명단 ,  전과전형 사정부 ,  전과지원서 및 성적증명서 ,  교수 회의록 첨부 2024. 1. 26.( 금 ) 단과대학 ( 학과 ) 합격자 발표 및 전과 허가 2024. 1. 29.( 월 ) 학사지원과\n",
            "5 재학생으로5학기 이상을 이수한 자 병역을 필하거나 면제인 자 장기 해외여행에 결격 사항이 없는 자  선발일정 접수:  2024년 5월 23일 (목) 자정까지*  5월27일(월) 자정까지 발표: 2024년 6월 4일(화) 예정 (합격자 개별연락이나 현지 기업사정에 따라 변경 가능) (*독일/터키 기업 프로젝트 업데이트 확인 후, 연장된 접수기간내에 신청) 신청 및 문의. 지원 회사와 함께 영문이력서 및 성적증명서를  https://forms.gle/mfSfoo6X1t9M5eFv9  제출하세요. ** 관심있는 학생들은 개별적으로 연락하기 바랍니다! (이민선교수  mleeoh@cnu.ac.kr )\n",
            "6 원하는 경우 학과로 문의(지난 장학지급과 크게 달라지지 않으나, 변동에 대비하여 매학기 확인 필요) ( 이전  공지  참고 ) 대상장학명 : 영탑 A·B( 장애의  정도에  따라 ), 보훈 , 새터민 , 외국어성적우수  등  공문에  따라  변경될  수  있음 . 모든  기준은  상위규정인  학교규정에  준하며  그  안에서  위  규정을  적용함 제출문서 양식 : 학사자료실에서  다운 장학기준 확인 및 제출서류 : 학사자료실  바로가기 * 설명이 부족하거나 오류 내용이 발견되면 연락주세요.\n",
            "7 원하는 경우 학과로 문의(지난 장학지급과 크게 달라지지 않으나, 변동에 대비하여 매학기 확인 필요) ( 이전  공지  참고 ) 대상장학명 : 영탑 A·B( 장애의  정도에  따라 ), 보훈 , 새터민 , 외국어성적우수  등  공문에  따라  변경될  수  있음 . 모든  기준은  상위규정인  학교규정에  준하며  그  안에서  위  규정을  적용함 제출문서 양식 : 학사자료실에서  다운 장학기준 확인 및 제출서류 : 학사자료실 바로가기 * 설명이 부족하거나 오류 내용이 발견되면 연락주세요.\n",
            "8 컴퓨터융합학과/ 인공지능학과 재학생으로 5학기 이상을 이수한 자 병역을 필하거나 면제인 자 장기 해외여행에 결격 사항이 없는 자   선발일정 접수: 2024년 5월 23일 (목) 자정까지*   5월27일(월) 자정까지  발표: 2024년 6월 4일(화) 예정 (합격자 개별연락이나 현지 기업사정에 따라 변경 가능)   (*독일/터키 기업 프로젝트 업데이트 확인 후, 연장된 접수기간내에 신청)   신청 및 문의.  지원 회사와 함께 영문이력서 및 성적증명서를 https://forms.gle/mfSfoo6X1t9M5eFv9  제출하세요. ** 관심있는 학생들은 개별적으로 연락하기 바랍니다! (이민선교수 mleeoh@cnu.ac.kr)\n",
            "9 미적분학1 17,18,19 -> 18, 19, 20으로 변경 되었습니다. -------------------------------------------------------------------------------------------------------- 1학년 교과목 중 전공 교과목인 이산수학, 컴퓨터프로그래밍1 교과목은 전학년 수강신청 기간인 2월 7일(수) 오전 9시 각 분반별로 10명씩 정원이 열립니다. 수강신청 대상자는 부전공, 복수전공, 연계전공 이수자 1학년 복학생 중 이산수학, 컴퓨터프로그래밍1 미 이수자 전과생만 가능합니다. (재이수 수강신청 제한하며 3월 수강신청 변경기간 여석이 있을 경우 본인이 직접 수강신청 하기 바랍니다. ) ----------------------------------------------------------------------------------------------------------------------------- 1학년 교과목은 신입생\n",
            "10 지원서 접수(각 학과): 2024. 1. 2.(화)∼1. 8.(월) 17:00   지원 대상자 다음 각 호에 해당하는 자 중 해당 학과(부)장의 추천을 받은 자 가.우리 대학교에 입학하여 학업을 마치지 못하고 자퇴하거나 제적(미등록,미수강,미복학,유급,성적경고,재학연한초과)된 자 나.성적경고(유급)또는 재학연한초과로 제적된 후 재입학일자 기준1년 경과자  재입학 지원은 제적 전 소속에 한함   재입학을 지원할 수 없는 자 가.학칙 제95조에 의한 징계처분으로 제적된 자 나.신입생 중 입학 일자에 자퇴한 자 다.재입학 시행 직전 월 이후(2023. 12. 1.이후)자퇴(제적)자 붙임 2024학년도 제1학기 재입학 모집요강 1부. 끝.\n",
            "11 *3학기 포함 이전 재학생도 미리 수료 조건을 확인해 놓으시기 바랍니다. 1. 2024 년 8월 수료예정인 학생의 예비사정 온라인 확인  가.  학생 온라인 확인 일정:  2024.4.18.(목)~4.19.(금) 정오까지  나.  학생 확인 방법 : 포털( https://portal.cnu.ac.kr/ )로그인    → 통합정보시스템→학사행정→성적정보→졸업사정온라인확인→졸업예비사정표    →학과 판정(합격 또는 불합격, 불합격인 경우 불합격사유)  확인→ 온라인 확인(click) 2. 학과 상담:  문제 있거나 수료 대상에 누락된 경우 연락 주세요.   042-821-5441,  jeonghwa9@cnu.ac .kr    수업일수 1/2선인 2024.4.25.(목) ( 가능한17:00이전 처리)  까지는    등록금 유효한 상태에서 휴학이 가능합니다 .   3. 수료 대상자  가. 해당 학위과정의 수업연한을 경과하고 수료요건을 갖춘 자     ( 등록학기 4학기 이상인자 , 석·박통합의 경우 8학기\n",
            "12 신청에 앞서 본인 성적 (주전공 하나를 잘하는 것과 복수전공을 이수하면서 둘다 성적이 나빠지는 경우, 주전공은 나쁘나 복수전공 성적만 좋은 경우.... 중 어느 것이 가능한지를 신중하게 판단)을 꼭 확인하고 신청하세요. 복수전공 이수 후 포기할 경우 재이수하기도 어렵습니다. 자세한 내용은 첨부문서로 확인하세요. 2024학년도 1차 CNU 융복합창의전공 학생선발 계획\n",
            "13 및 전체 지원 과정  졸업 전 반드시 이수 (2)글로벌SW·AI인재 프로그램의 봉사활동 의무 이행 (3)특별한 사유 없이 미 이수한 경우,해외대학 연수프로그램 참여 제외 *컴퓨터융합학부의 경우, IT영어1,2, 실전코딩, 공개소프트웨어실습 *인공지능학과의 경우, IT영어1,2  카테캠 교육과 동시 진행 가능합니다 신청링크   https://forms.gle/Agkscw39X87EHgem6 자세한 내용은 첨부 파일의 공고문을 참고하시기 바랍니다.  문의 042-821-8672 또는  yeonce@cnu.ac .kr\n",
            "14 주의! 신청에 앞서 본인 성적 (주전공 하나를 잘하는 것과 복수전공을 이수하면서 둘다 성적이 나빠지는 경우, 주전공은 나쁘나 복수전공 성적만 좋은 경우.... 중 어느 것이 가능한지를 신중하게 판단)을 꼭 확인하고 신청하세요. 복수전공 이수 후 포기할 경우 재이수하기도 어렵습니다. 자세한 내용은 첨부문서로 확인하세요. 2024학년도 1차 CNU 융복합창의전공 학생선발 계획\n"
          ]
        }
      ],
      "source": [
        "single_query = '다른 학과로 전과하고 싶은데 조건이 있을까?'\n",
        "\n",
        "documents = list()\n",
        "documents.append(single_query)\n",
        "\n",
        "inputs = tokenizer(documents, padding=True, truncation=True, return_tensors=\"pt\")\n",
        "embeddings, _ = model(**inputs, return_dict=False)\n",
        "doc_embeddings = []\n",
        "\n",
        "for embedded_doc in embeddings:\n",
        "    doc_embedding = embedded_doc[0].detach().cpu().numpy().tolist()\n",
        "    doc_embeddings.append(doc_embedding)\n",
        "\n",
        "LIMIT = 15\n",
        "\n",
        "query_result = collection2.query(\n",
        "            query_embeddings=doc_embeddings,\n",
        "            where={\"학과명\": {\"$in\": [\"컴퓨터융합학부\",\"인공지능학과\"]}},\n",
        "            n_results=LIMIT)\n",
        "\n",
        "for idx,result_documents in enumerate(query_result[\"documents\"][0]):\n",
        "        print(idx,result_documents)"
      ]
    },
    {
      "cell_type": "code",
      "execution_count": 61,
      "metadata": {},
      "outputs": [
        {
          "name": "stdout",
          "output_type": "stream",
          "text": [
            "다른 학과로 전과하고 싶으신 경우, 몇 가지 조건을 확인해야 합니다. 아래는 전과 전형에 대한 주요 사항입니다.\n",
            "\n",
            "1. **전과 전형 시행 계획 및 모집 요강 안내**:\n",
            "   - 전과 전형은 학기마다 시행 계획이 달라질 수 있으므로, 매 학기마다 학사지원과에서 확인해야 합니다.\n",
            "   - 2024학년도 1학기 전과 전형 일정은 2023년 12월 8일에 안내되었으며, 지원서는 2024년 1월 12일부터 1월 16일까지 접수되었습니다.\n",
            "\n",
            "2. **전과 전형 요건**:\n",
            "   - 전과는 재학 중 1회에 한하여 가능합니다.\n",
            "   - 전과 전형에 지원하려면, 원 소속 학과의 교직과 이수자격 취소신청이 필요합니다.\n",
            "\n",
            "3. **전과 전형 절차**:\n",
            "   - 전과 지원자는 전과 전형 시행 계획 및 모집 요강을 확인한 후, 전과 전형 신청서류를 제출해야 합니다.\n",
            "   - 전과 전형은 필기고사, 면접고사, 실기고사 등의 절차를 거칠 수 있습니다.\n",
            "\n",
            "4. **전과 전형 지원서류**:\n",
            "   - 전과 전형 지원서\n",
            "   - 전과 전형 지원서 첨부서 (원 소속 학과의 교직과 이수자격 취소신청서, 성적증명서, 교수 회의록 등)\n",
            "   - 전과 전형 지원자는 전과 전형 지원서류를 정확히 제출해야 하며, 미제출 또는 잘못된 서류로 인한 전형 탈락을 받을 수 있습니다.\n",
            "\n",
            "5. **전과 전형 일정**:\n",
            "   - 전과 전형 일정은 학기별로 다를 수 있으므로, 매 학기마다 학사지원과에서 확인해야 합니다.\n",
            "   - 2024학년도 1학기 전과 전형 일정은 다음과 같습니다.\n",
            "     - 전과 지원서류 접수: 2024년 1월 12일 ~ 1월 16일\n",
            "     - 전과 전형 면접고사 및 실기고사: 2024년 1월 17일\n",
            "     - 전과 전형 결과 발표: 2024년 1월 26일\n",
            "\n",
            "6. **전과 전형 관련 문의**:\n",
            "   - 전과 전형에 대한 자세한 문의는 학사지원과로 연락하시기 바랍니다.\n",
            "   - 학사지원과 연락처: 042-821-7456\n",
            "\n",
            "전과 전형에 대한 자세한 내용은 학사지원과에서 확인하셔서 정확한 정보를 얻으시길 바랍니다.\n"
          ]
        }
      ],
      "source": [
        "\n",
        "torch.cuda.empty_cache()\n",
        "\n",
        "PROMPT = \\\n",
        "    f'''You are a helpful AI assistant. You must respond to user queries logicaly, kindly and accurately in korean.\n",
        "    Refer to the searched documents to answer the user query. retrieved documents: {query_result[\"documents\"][0]}\n",
        "    If the information from the retrieved documents is insufficient, respond with \"Insufficient information available.\" and\n",
        "    When a document have a time information, you must mention it correctly, Today is {'2024-02-12'}\n",
        "    '''\n",
        "\n",
        "instruction = f'{single_query}'\n",
        "\n",
        "messages = [\n",
        "        {\"role\": \"system\", \"content\": f\"{PROMPT}\"},\n",
        "        {\"role\": \"user\", \"content\": f\"{instruction}\"}\n",
        "]\n",
        "\n",
        "prompt = pipeline.tokenizer.apply_chat_template(\n",
        "            messages, \n",
        "            tokenize=False, \n",
        "            add_generation_prompt=True\n",
        ")\n",
        "\n",
        "generation_kwargs = {\n",
        "        \"max_tokens\":2048,\n",
        "        \"stop\":[\"<|eot_id|>\"],\n",
        "        \"top_p\":0.9,\n",
        "        \"temperature\":0.75,\n",
        "        \"echo\":True, # Echo the prompt in the output\n",
        "}\n",
        "\n",
        "terminators = [\n",
        "        pipeline.tokenizer.eos_token_id,\n",
        "        pipeline.tokenizer.convert_tokens_to_ids(\"<|eot_id|>\")\n",
        "    ]\n",
        "\n",
        "outputs = pipeline(\n",
        "        prompt,\n",
        "        max_new_tokens=1024,\n",
        "        min_new_tokens=128,\n",
        "        eos_token_id=terminators,\n",
        "        do_sample=True,\n",
        "        temperature=0.6,\n",
        "        top_p=0.9\n",
        "    )\n",
        "\n",
        "# Answer\n",
        "answer = outputs[0][\"generated_text\"][len(prompt):]\n",
        "print(answer)"
      ]
    }
  ],
  "metadata": {
    "accelerator": "GPU",
    "colab": {
      "gpuType": "T4",
      "provenance": []
    },
    "kernelspec": {
      "display_name": "Python 3",
      "name": "python3"
    },
    "language_info": {
      "codemirror_mode": {
        "name": "ipython",
        "version": 3
      },
      "file_extension": ".py",
      "mimetype": "text/x-python",
      "name": "python",
      "nbconvert_exporter": "python",
      "pygments_lexer": "ipython3",
      "version": "3.10.14"
    }
  },
  "nbformat": 4,
  "nbformat_minor": 0
}
