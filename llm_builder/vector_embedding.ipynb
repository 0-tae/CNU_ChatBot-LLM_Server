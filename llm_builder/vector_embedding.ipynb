{
 "cells": [
  {
   "cell_type": "code",
   "execution_count": null,
   "metadata": {
    "vscode": {
     "languageId": "shellscript"
    }
   },
   "outputs": [],
   "source": [
    "pip install chromadb # Python에 ChromaDB 설치"
   ]
  },
  {
   "cell_type": "code",
   "execution_count": null,
   "metadata": {},
   "outputs": [],
   "source": [
    "import chromadb\n",
    "client = chromadb.PersistentClient() # 디스크 모드로 이용, 이외에도 인메모리, HttpClient 방식 등이 존재"
   ]
  },
  {
   "cell_type": "code",
   "execution_count": null,
   "metadata": {},
   "outputs": [],
   "source": [
    "# 컬렉션 생성\n",
    "answers = client.create_collection(\n",
    "    name=\"answers\"\n",
    ")"
   ]
  },
  {
   "cell_type": "code",
   "execution_count": null,
   "metadata": {},
   "outputs": [],
   "source": [
    "import pandas as pd\n",
    "from tqdm import tqdm\n",
    "\n",
    "\"\"\"\n",
    "    게시글 CNU DATA 불러오기\n",
    "\"\"\"\n",
    "\n",
    "df = pd.read_csv(\"./cnu_post_data.csv\")\n",
    "df.sample(5)"
   ]
  },
  {
   "cell_type": "code",
   "execution_count": null,
   "metadata": {},
   "outputs": [],
   "source": [
    "from langchain.embeddings import LlamaCppEmbeddings\n",
    "\n",
    "llama_model_path = \"umm..\"\n",
    "embeddings = LlamaCppEmbeddings(model_path=llama_model_path,n_ctx=2048)"
   ]
  },
  {
   "cell_type": "code",
   "execution_count": null,
   "metadata": {},
   "outputs": [],
   "source": [
    "from sentence_transformers import SentenceTransformer\n",
    "\"\"\"\n",
    "    벡터 임베딩을 위한 SentenceTransformer model 불러오기\n",
    "    Langchain이 지원하는 벡터 임베딩 방법이 있나?\n",
    "\"\"\"\n",
    "\n",
    "model = SentenceTransformer('snunlp/KR-SBERT-V40K-klueNLI-augSTS') "
   ]
  },
  {
   "cell_type": "code",
   "execution_count": null,
   "metadata": {},
   "outputs": [],
   "source": [
    "ids = []\n",
    "metadatas = []\n",
    "embeddings = []\n",
    "\n",
    "for row in tqdm(df.iterrows()):\n",
    "    index = row[0]\n",
    "    query = row[1].user # xlsx 예시\n",
    "    answer = row[1].answer # xlsx 예시\n",
    "    \n",
    "    metadata = {\n",
    "        \"query\": query,\n",
    "        \"answer\": answer\n",
    "    }\n",
    "    \n",
    "    embedding = model.encode(query, normalize_embeddings=True)\n",
    "    \n",
    "    ids.append(str(index))\n",
    "    metadatas.append(metadata)\n",
    "    embeddings.append(embedding)\n",
    "    \n",
    "chunk_size = 1024  # 한 번에 처리할 chunk 크기 설정\n",
    "total_chunks = len(embeddings) // chunk_size + 1  # 전체 데이터를 chunk 단위로 나눈 횟수\n",
    "embeddings = [ e.tolist() for e in tqdm(embeddings)]  \n",
    "\n",
    "for chunk_idx in tqdm(range(total_chunks)):\n",
    "    start_idx = chunk_idx * chunk_size\n",
    "    end_idx = (chunk_idx + 1) * chunk_size\n",
    "    \n",
    "    # chunk 단위로 데이터 자르기\n",
    "    chunk_embeddings = embeddings[start_idx:end_idx]\n",
    "    chunk_ids = ids[start_idx:end_idx]\n",
    "    chunk_metadatas = metadatas[start_idx:end_idx]\n",
    "    \n",
    "    # chunk를 answers에 추가\n",
    "    answers.add(embeddings=chunk_embeddings, ids=chunk_ids, metadatas=chunk_metadatas)"
   ]
  },
  {
   "cell_type": "code",
   "execution_count": null,
   "metadata": {},
   "outputs": [],
   "source": [
    "\n",
    "# 검색하기\n",
    "# answers = create_collection으로 생성한 chroma DB의 객체\n",
    "result = answers.query(\n",
    "    query_embeddings=model.encode(\"어제 여자친구랑 헤어졌다\", normalize_embeddings=True).tolist(),\n",
    "    n_results=3\n",
    ")\n",
    "\n",
    "\n",
    "print(result)"
   ]
  }
 ],
 "metadata": {
  "language_info": {
   "name": "python"
  }
 },
 "nbformat": 4,
 "nbformat_minor": 2
}
